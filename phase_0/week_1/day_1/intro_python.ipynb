{
 "cells": [
  {
   "cell_type": "markdown",
   "metadata": {},
   "source": [
    "## Pengenalan Python"
   ]
  },
  {
   "cell_type": "code",
   "execution_count": 131,
   "metadata": {},
   "outputs": [
    {
     "name": "stdout",
     "output_type": "stream",
     "text": [
      "7\n"
     ]
    },
    {
     "data": {
      "text/plain": [
       "int"
      ]
     },
     "execution_count": 131,
     "metadata": {},
     "output_type": "execute_result"
    }
   ],
   "source": [
    "#numerik: integer, float, complex\n",
    "angka = 7\n",
    "print(angka)\n",
    "type(angka) #untuk melihat tipe data\n"
   ]
  },
  {
   "cell_type": "markdown",
   "metadata": {},
   "source": [
    "variabel ga boleh sama karena nanti akan di override di baris code yg paling terbaru"
   ]
  },
  {
   "cell_type": "code",
   "execution_count": 132,
   "metadata": {},
   "outputs": [
    {
     "name": "stdout",
     "output_type": "stream",
     "text": [
      "(2+5j)\n"
     ]
    },
    {
     "data": {
      "text/plain": [
       "complex"
      ]
     },
     "execution_count": 132,
     "metadata": {},
     "output_type": "execute_result"
    }
   ],
   "source": [
    "#bil kompleks, jarang digunakan\n",
    "#contoh 2+5i = bil kompleks\n",
    "#bil kompleks gabungan angka riil + angka imaginer\n",
    "\n",
    "angka_kompleks = 2+5j #di python pakenya j bukan i\n",
    "print(angka_kompleks)\n",
    "type(angka_kompleks)"
   ]
  },
  {
   "cell_type": "markdown",
   "metadata": {},
   "source": [
    ".4e7 = 0.4 x 10 pangkat 7\n"
   ]
  },
  {
   "cell_type": "code",
   "execution_count": 133,
   "metadata": {},
   "outputs": [
    {
     "name": "stdout",
     "output_type": "stream",
     "text": [
      "0.00047\n"
     ]
    }
   ],
   "source": [
    "angkaf = 4.7e-4\n",
    "print(angkaf)\n"
   ]
  },
  {
   "cell_type": "markdown",
   "metadata": {},
   "source": [
    "# Strings"
   ]
  },
  {
   "cell_type": "code",
   "execution_count": 134,
   "metadata": {},
   "outputs": [],
   "source": [
    "# seq of characters\n",
    "# ciri dari tipe data strings diapit tanda kutip \"\", ''\n",
    "# bedakan antara string untuk data sama yang di variabel"
   ]
  },
  {
   "cell_type": "code",
   "execution_count": 135,
   "metadata": {},
   "outputs": [],
   "source": [
    "#menggunakan / jika ingin menggunakan karakter atau tanda baca dala suatu kata\n"
   ]
  },
  {
   "cell_type": "code",
   "execution_count": 136,
   "metadata": {},
   "outputs": [
    {
     "name": "stdout",
     "output_type": "stream",
     "text": [
      "kamu dimana\n",
      "sedang apa dan berbuat apa\n"
     ]
    }
   ],
   "source": [
    "# menggunakan triple quote untuk menuliskan string yang panjang dan beda baris\n",
    "\n",
    "lirik = \"\"\"kamu dimana\n",
    "sedang apa dan berbuat apa\"\"\"\n",
    "print(lirik)"
   ]
  },
  {
   "cell_type": "code",
   "execution_count": 137,
   "metadata": {},
   "outputs": [
    {
     "name": "stdout",
     "output_type": "stream",
     "text": [
      "Nama kamu adalah : ... dan usia kamu adalah ...\n",
      "Nama kamu adalah : Alicia dan usia kamu adalah 30\n"
     ]
    }
   ],
   "source": [
    "# string formatting = metode agar bisa memasukan sesuatu ke dalam string\n",
    "#f-string\n",
    "nama = \"Alicia\"\n",
    "usia = 30\n",
    "print(\"Nama kamu adalah : ... dan usia kamu adalah ...\")\n",
    "print(f\"Nama kamu adalah : {nama} dan usia kamu adalah {usia}\")"
   ]
  },
  {
   "cell_type": "markdown",
   "metadata": {},
   "source": [
    "### User input program"
   ]
  },
  {
   "cell_type": "code",
   "execution_count": 138,
   "metadata": {},
   "outputs": [],
   "source": [
    "# lebih enak dipake di script karena input namanya ga aneh"
   ]
  },
  {
   "cell_type": "code",
   "execution_count": 139,
   "metadata": {},
   "outputs": [
    {
     "name": "stdout",
     "output_type": "stream",
     "text": [
      "Nama kamu adalah : yoo dan usia kamu adalah 27\n"
     ]
    }
   ],
   "source": [
    "nama = input(\"Masukkan nama Anda : \")\n",
    "usia = input(\"Masukkan usia Anda : \")\n",
    "\n",
    "print(f\"Nama kamu adalah : {nama} dan usia kamu adalah {usia}\")"
   ]
  },
  {
   "cell_type": "code",
   "execution_count": 140,
   "metadata": {},
   "outputs": [
    {
     "name": "stdout",
     "output_type": "stream",
     "text": [
      "Nama kamu adalah : yoo\n",
      "dan usia kamu adalah 27\n"
     ]
    }
   ],
   "source": [
    "print(f\"Nama kamu adalah : {nama}\\ndan usia kamu adalah {usia}\")"
   ]
  },
  {
   "cell_type": "code",
   "execution_count": 141,
   "metadata": {},
   "outputs": [
    {
     "name": "stdout",
     "output_type": "stream",
     "text": [
      "Nama kamu adalah : yoo\n",
      "dan usia kamu adalah 27\n"
     ]
    }
   ],
   "source": [
    "print(f\"\"\"Nama kamu adalah : {nama}\n",
    "dan usia kamu adalah {usia}\"\"\")"
   ]
  },
  {
   "cell_type": "markdown",
   "metadata": {},
   "source": [
    "## Boolean\n"
   ]
  },
  {
   "cell_type": "code",
   "execution_count": 142,
   "metadata": {},
   "outputs": [],
   "source": [
    "# warna tulisan akan auto berubah jika tru/falsenya dipakai untuk boolean"
   ]
  },
  {
   "cell_type": "code",
   "execution_count": 143,
   "metadata": {},
   "outputs": [
    {
     "name": "stdout",
     "output_type": "stream",
     "text": [
      "True\n"
     ]
    },
    {
     "data": {
      "text/plain": [
       "bool"
      ]
     },
     "execution_count": 143,
     "metadata": {},
     "output_type": "execute_result"
    }
   ],
   "source": [
    "yoo_sf9 = True\n",
    "print(yoo_sf9)\n",
    "type(yoo_sf9)"
   ]
  },
  {
   "cell_type": "code",
   "execution_count": 144,
   "metadata": {},
   "outputs": [
    {
     "data": {
      "text/plain": [
       "True"
      ]
     },
     "execution_count": 144,
     "metadata": {},
     "output_type": "execute_result"
    }
   ],
   "source": [
    "100 < 500"
   ]
  },
  {
   "cell_type": "code",
   "execution_count": 145,
   "metadata": {},
   "outputs": [
    {
     "data": {
      "text/plain": [
       "False"
      ]
     },
     "execution_count": 145,
     "metadata": {},
     "output_type": "execute_result"
    }
   ],
   "source": [
    "100 > 500"
   ]
  },
  {
   "cell_type": "code",
   "execution_count": 146,
   "metadata": {},
   "outputs": [
    {
     "name": "stdout",
     "output_type": "stream",
     "text": [
      "25\n"
     ]
    }
   ],
   "source": [
    "a = 25\n",
    "print(a)"
   ]
  },
  {
   "cell_type": "code",
   "execution_count": 147,
   "metadata": {},
   "outputs": [
    {
     "data": {
      "text/plain": [
       "True"
      ]
     },
     "execution_count": 147,
     "metadata": {},
     "output_type": "execute_result"
    }
   ],
   "source": [
    "a == 25\n"
   ]
  },
  {
   "cell_type": "code",
   "execution_count": 148,
   "metadata": {},
   "outputs": [
    {
     "data": {
      "text/plain": [
       "False"
      ]
     },
     "execution_count": 148,
     "metadata": {},
     "output_type": "execute_result"
    }
   ],
   "source": [
    "a == 30"
   ]
  },
  {
   "cell_type": "code",
   "execution_count": 149,
   "metadata": {},
   "outputs": [
    {
     "name": "stdout",
     "output_type": "stream",
     "text": [
      "a : 46\n",
      "b : 46\n",
      "c : 46\n"
     ]
    }
   ],
   "source": [
    "# variable assignment\n",
    "a = b = c  = 46\n",
    "print(f\"a : {a}\")\n",
    "print(f\"b : {b}\")\n",
    "print(f\"c : {c}\")\n"
   ]
  },
  {
   "cell_type": "code",
   "execution_count": 150,
   "metadata": {},
   "outputs": [
    {
     "name": "stdout",
     "output_type": "stream",
     "text": [
      "a : (1, 46, 30)\n",
      "b : (1, 46, 30)\n",
      "c : (1, 46, 30)\n"
     ]
    }
   ],
   "source": [
    "a = b = c = 1, 46, 30\n",
    "print(f\"a : {a}\")\n",
    "print(f\"b : {b}\")\n",
    "print(f\"c : {c}\")"
   ]
  },
  {
   "cell_type": "code",
   "execution_count": 151,
   "metadata": {},
   "outputs": [],
   "source": [
    "#aturan penulisan variabel = merepresentasikan isi dari datanya, agar mudah dibaca, dipahami dan diingat"
   ]
  },
  {
   "cell_type": "markdown",
   "metadata": {},
   "source": [
    "# Operations & Expressions\n"
   ]
  },
  {
   "cell_type": "code",
   "execution_count": 152,
   "metadata": {},
   "outputs": [
    {
     "name": "stdout",
     "output_type": "stream",
     "text": [
      "hasil penjumlahan : 10\n",
      "hasil pengurangan : 4\n",
      "hasil perkalian : 21\n",
      "hasil pembagian normal : 2.3333333333333335\n",
      "hasil pembagian bulat : 2\n",
      "hasil pangkat : 343\n",
      "hasil sisa bagi : 1\n"
     ]
    }
   ],
   "source": [
    "# operasi aritmatika\n",
    "angka_1 = 7\n",
    "angka_2 = 3\n",
    "print(f\"hasil penjumlahan : {angka_1 + angka_2}\")\n",
    "print(f\"hasil pengurangan : {angka_1 - angka_2}\")\n",
    "print(f\"hasil perkalian : {angka_1 * angka_2}\")\n",
    "print(f\"hasil pembagian normal : {angka_1 / angka_2}\")\n",
    "print(f\"hasil pembagian bulat : {angka_1 // angka_2}\")\n",
    "print(f\"hasil pangkat : {angka_1 ** angka_2}\")\n",
    "print(f\"hasil sisa bagi : {angka_1 % angka_2}\") #modulus"
   ]
  },
  {
   "cell_type": "code",
   "execution_count": 153,
   "metadata": {},
   "outputs": [
    {
     "name": "stdout",
     "output_type": "stream",
     "text": [
      "concatenation : AliciaSianturi\n",
      "concatenation : Alicia Sianturi\n",
      "repeating : AliciaAliciaAliciaAliciaAlicia\n"
     ]
    }
   ],
   "source": [
    "#string bisa menggunakan operasi aritmatika\n",
    "string_1 = \"Alicia\"\n",
    "string_2 = \"Sianturi\"\n",
    "\n",
    "print(f\"concatenation : {string_1 + string_2}\")\n",
    "\n",
    "# untuk memisahkan ditambah spasi dengen menambahkan kutip di tengah\n",
    "\n",
    "print(f\"concatenation : {string_1 + ' ' + string_2}\") #str & str\n",
    "\n",
    "# mengoperasikan string dan int\n",
    "print(f\"repeating : {string_1 * 5}\") # str & int"
   ]
  },
  {
   "cell_type": "markdown",
   "metadata": {},
   "source": [
    "### Comparison Operator"
   ]
  },
  {
   "cell_type": "code",
   "execution_count": 154,
   "metadata": {},
   "outputs": [
    {
     "name": "stdout",
     "output_type": "stream",
     "text": [
      " a == b (sama dengan) : False\n",
      " a != b (tidak sama dengan) : True\n",
      " a >= b (lebih besar sama dengan) : True\n",
      " a =< b (lebih kecil) : False\n"
     ]
    }
   ],
   "source": [
    "a = 10\n",
    "b = 8\n",
    "\n",
    "print(f\" a == b (sama dengan) : {a == b}\")\n",
    "print(f\" a != b (tidak sama dengan) : {a != b}\")\n",
    "print(f\" a >= b (lebih besar sama dengan) : {a > b}\")\n",
    "print(f\" a =< b (lebih kecil) : {a < b}\")"
   ]
  },
  {
   "cell_type": "markdown",
   "metadata": {},
   "source": [
    "#### String Manipulation"
   ]
  },
  {
   "cell_type": "code",
   "execution_count": 155,
   "metadata": {},
   "outputs": [],
   "source": [
    "nama = \"Alicia Sianturi\""
   ]
  },
  {
   "cell_type": "code",
   "execution_count": 156,
   "metadata": {},
   "outputs": [
    {
     "data": {
      "text/plain": [
       "'ALICIA SIANTURI'"
      ]
     },
     "execution_count": 156,
     "metadata": {},
     "output_type": "execute_result"
    }
   ],
   "source": [
    "nama.upper()"
   ]
  },
  {
   "cell_type": "code",
   "execution_count": 157,
   "metadata": {},
   "outputs": [
    {
     "data": {
      "text/plain": [
       "'aLICIA sIANTURI'"
      ]
     },
     "execution_count": 157,
     "metadata": {},
     "output_type": "execute_result"
    }
   ],
   "source": [
    "nama.swapcase()"
   ]
  },
  {
   "cell_type": "code",
   "execution_count": 158,
   "metadata": {},
   "outputs": [
    {
     "data": {
      "text/plain": [
       "'Alicia sianturi'"
      ]
     },
     "execution_count": 158,
     "metadata": {},
     "output_type": "execute_result"
    }
   ],
   "source": [
    "nama.capitalize()"
   ]
  },
  {
   "cell_type": "markdown",
   "metadata": {},
   "source": [
    "# Tipe Data Majemuk"
   ]
  },
  {
   "cell_type": "code",
   "execution_count": 159,
   "metadata": {},
   "outputs": [],
   "source": [
    "#perbedaan tuple dan list ada di sistemnya\n",
    "# tuple = immutable, TIDAK bisa diubah, read only, tida bisa diganti/modifikasi elemennya\n",
    "# list = mutable, bisa diubah"
   ]
  },
  {
   "cell_type": "code",
   "execution_count": 160,
   "metadata": {},
   "outputs": [],
   "source": [
    "#menambah data pada list\n",
    "a = [1, 2, 3, 4, 5]"
   ]
  },
  {
   "cell_type": "code",
   "execution_count": 161,
   "metadata": {},
   "outputs": [],
   "source": [
    "# append\n",
    "a.append(100)"
   ]
  },
  {
   "cell_type": "code",
   "execution_count": 162,
   "metadata": {},
   "outputs": [
    {
     "data": {
      "text/plain": [
       "[1, 2, 3, 4, 5, 100]"
      ]
     },
     "execution_count": 162,
     "metadata": {},
     "output_type": "execute_result"
    }
   ],
   "source": [
    "a"
   ]
  },
  {
   "cell_type": "code",
   "execution_count": 163,
   "metadata": {},
   "outputs": [
    {
     "name": "stdout",
     "output_type": "stream",
     "text": [
      "[1, 2, 3, 46, 4, 5, 100]\n"
     ]
    }
   ],
   "source": [
    "# insert, harus hati2 kalo kedobel nge-run, datanya jadi kemasuk dua kali\n",
    "a.insert(3,46)\n",
    "print(a)"
   ]
  },
  {
   "cell_type": "markdown",
   "metadata": {},
   "source": [
    "## Dictionary"
   ]
  },
  {
   "cell_type": "code",
   "execution_count": 166,
   "metadata": {},
   "outputs": [
    {
     "name": "stdout",
     "output_type": "stream",
     "text": [
      "{'nama': 'Alicia', 'usia': 30, 'pekerjaan': 'trader', 'company': 'xxx'}\n"
     ]
    }
   ],
   "source": [
    "# dictionary menggunakan kurawal\n",
    "biodata = {\"nama\" : \"Alicia\",\n",
    "            \"usia\" : 30,\n",
    "            \"pekerjaan\" : \"trader\",\n",
    "            \"company\": \"xxx\"}\n",
    "\n",
    "print(biodata)"
   ]
  },
  {
   "cell_type": "code",
   "execution_count": 171,
   "metadata": {},
   "outputs": [],
   "source": [
    "# buat nambah\n",
    "biodata[\"status\"] = \"belum menikah\""
   ]
  },
  {
   "cell_type": "code",
   "execution_count": 172,
   "metadata": {},
   "outputs": [
    {
     "data": {
      "text/plain": [
       "{'nama': 'Alicia',\n",
       " 'usia': 30,\n",
       " 'pekerjaan': 'trader',\n",
       " 'company': 'xxx',\n",
       " 'status': 'belum menikah'}"
      ]
     },
     "execution_count": 172,
     "metadata": {},
     "output_type": "execute_result"
    }
   ],
   "source": [
    "biodata"
   ]
  },
  {
   "cell_type": "code",
   "execution_count": 173,
   "metadata": {},
   "outputs": [],
   "source": [
    "# delete item\n",
    "del biodata[\"status\"]"
   ]
  },
  {
   "cell_type": "code",
   "execution_count": 174,
   "metadata": {},
   "outputs": [
    {
     "data": {
      "text/plain": [
       "{'nama': 'Alicia', 'usia': 30, 'pekerjaan': 'trader', 'company': 'xxx'}"
      ]
     },
     "execution_count": 174,
     "metadata": {},
     "output_type": "execute_result"
    }
   ],
   "source": [
    "biodata"
   ]
  },
  {
   "cell_type": "code",
   "execution_count": null,
   "metadata": {},
   "outputs": [],
   "source": []
  }
 ],
 "metadata": {
  "kernelspec": {
   "display_name": "Python 3.9.7 ('base')",
   "language": "python",
   "name": "python3"
  },
  "language_info": {
   "codemirror_mode": {
    "name": "ipython",
    "version": 3
   },
   "file_extension": ".py",
   "mimetype": "text/x-python",
   "name": "python",
   "nbconvert_exporter": "python",
   "pygments_lexer": "ipython3",
   "version": "3.9.7"
  },
  "orig_nbformat": 4,
  "vscode": {
   "interpreter": {
    "hash": "ad2bdc8ecc057115af97d19610ffacc2b4e99fae6737bb82f5d7fb13d2f2c186"
   }
  }
 },
 "nbformat": 4,
 "nbformat_minor": 2
}
