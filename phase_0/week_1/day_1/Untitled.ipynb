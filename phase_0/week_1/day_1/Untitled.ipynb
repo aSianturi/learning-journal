{
 "cells": [
  {
   "cell_type": "code",
   "execution_count": 2,
   "id": "23f006f6",
   "metadata": {},
   "outputs": [
    {
     "name": "stdout",
     "output_type": "stream",
     "text": [
      "Halo Hacktiv8\n"
     ]
    }
   ],
   "source": [
    "print(\"Halo Hacktiv8\")"
   ]
  },
  {
   "cell_type": "markdown",
   "id": "ddae7b81",
   "metadata": {},
   "source": [
    "Ini comment"
   ]
  },
  {
   "cell_type": "code",
   "execution_count": null,
   "id": "6a112e62",
   "metadata": {},
   "outputs": [],
   "source": []
  }
 ],
 "metadata": {
  "kernelspec": {
   "display_name": "Python 3.9.7 ('base')",
   "language": "python",
   "name": "python3"
  },
  "language_info": {
   "codemirror_mode": {
    "name": "ipython",
    "version": 3
   },
   "file_extension": ".py",
   "mimetype": "text/x-python",
   "name": "python",
   "nbconvert_exporter": "python",
   "pygments_lexer": "ipython3",
   "version": "3.9.7"
  },
  "vscode": {
   "interpreter": {
    "hash": "ad2bdc8ecc057115af97d19610ffacc2b4e99fae6737bb82f5d7fb13d2f2c186"
   }
  }
 },
 "nbformat": 4,
 "nbformat_minor": 5
}
